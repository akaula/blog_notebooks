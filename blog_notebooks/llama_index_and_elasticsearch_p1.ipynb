{
 "cells": [
  {
   "cell_type": "code",
   "execution_count": 51,
   "metadata": {},
   "outputs": [],
   "source": [
    "# Setup elasticsearch and llama-index\n",
    "import os\n",
    "from dotenv import load_dotenv\n",
    "\n",
    "from llama_index.core import VectorStoreIndex\n",
    "from llama_index.vector_stores.elasticsearch import ElasticsearchStore\n",
    "\n",
    "# Load .env file\n",
    "load_dotenv()\n",
    "ES_URL = os.getenv(\"ES_URL\")\n",
    "ES_USER = os.getenv(\"ES_USER\")\n",
    "ES_PASSWORD = os.getenv(\"ES_PASSWORD\")\n",
    "ES_CLOUD_ID = os.getenv(\"ES_CLOUD_ID\")\n",
    "ES_API_KEY = os.getenv(\"ES_API_KEY\")\n",
    "ES_INDEX_NAME = os.getenv(\"ES_INDEX_NAME\", \"matrixfilms\")\n",
    "\n",
    "# Create LlamaIndex vector store\n",
    "vector_store = ElasticsearchStore(\n",
    "    index_name=ES_INDEX_NAME,\n",
    "    es_url=ES_URL,\n",
    "    es_user=ES_USER,\n",
    "    es_password=ES_PASSWORD,\n",
    "    es_cloud_id=ES_CLOUD_ID,\n",
    "    es_api_key=ES_API_KEY,\n",
    ")\n",
    "\n",
    "# Create index from the store\n",
    "index = VectorStoreIndex.from_vector_store(vector_store=vector_store)"
   ]
  },
  {
   "cell_type": "code",
   "execution_count": 52,
   "metadata": {},
   "outputs": [],
   "source": [
    "# Download the test data\n",
    "\n",
    "from pathlib import Path\n",
    "from py7zr import SevenZipFile\n",
    "import requests\n",
    "\n",
    "def download_wiki(dump_file):\n",
    "    dump_url = f\"https://s3.amazonaws.com/wikia_xml_dumps/{dump_file[:1]}/{dump_file[:2]}/{dump_file}.7z\"\n",
    "    dump_7z_file_path = f\"{dump_file}.7z\"\n",
    "    response = requests.get(dump_url)\n",
    "    if response.status_code == 200:\n",
    "        with open(dump_7z_file_path, \"wb\") as file:\n",
    "            file.write(response.content)\n",
    "        with SevenZipFile(dump_7z_file_path, mode=\"r\") as archive:\n",
    "            archive.extractall(path=\".\")\n",
    "    else:\n",
    "        raise RuntimeError(f\"Failed to download the file. HTTP Status Code: {response.status_code}\")\n",
    "\n",
    "dump_file = \"matrixfilms_pages_current.xml\"\n",
    "\n",
    "if not Path(f\"{dump_file}\").exists():\n",
    "    download_wiki(dump_file)"
   ]
  },
  {
   "cell_type": "code",
   "execution_count": 55,
   "metadata": {},
   "outputs": [],
   "source": [
    "# Parse wiki documents\n",
    "\n",
    "import wikitextparser as wtp\n",
    "import xmltodict\n",
    "\n",
    "def parse_wiki_xml(file_path, limit = None):\n",
    "    docs = []\n",
    "    namespaces = []\n",
    "    page = 0\n",
    "\n",
    "    def process_page(title, text):\n",
    "        nonlocal docs\n",
    "        doc = {\"content\": text, \"meta\": {\"title\": title, \"id\": page}}\n",
    "        docs.append(doc)\n",
    "\n",
    "    def handle_content(address, content):\n",
    "        nonlocal page, namespaces\n",
    "        name = address[1][0]\n",
    "        if name == \"siteinfo\":\n",
    "            # We collect a set of namespaces that indicate special purpose wiki pages that we will ignore\n",
    "            for namespace_elem in content[\"namespaces\"][\"namespace\"]:\n",
    "                namespace = namespace_elem.get(\"#text\")\n",
    "                if namespace:\n",
    "                    namespaces.append(namespace)\n",
    "        elif name == \"page\":\n",
    "            title = content[\"title\"]\n",
    "            # Ignore special pages\n",
    "            if any(title.startswith(namespace + \":\") for namespace in namespaces):\n",
    "                return True\n",
    "            revision = content.get(\"revision\")\n",
    "            if revision:\n",
    "                text = revision.get(\"text\").get(\"#text\")\n",
    "                # Use wikitextparser to extract the plain text of the page\n",
    "                text = wtp.parse(text).plain_text()\n",
    "                process_page(title, text)\n",
    "                page = page + 1\n",
    "        return not limit or page < limit\n",
    "\n",
    "    with open(file_path, \"r\", encoding=\"utf-8\") as f:\n",
    "        try:\n",
    "            xmltodict.parse(f.read(), item_depth=2, item_callback=handle_content)\n",
    "        except xmltodict.ParsingInterrupted:\n",
    "            print(\"ParsingInterrupted... stopping...\")\n",
    "    return docs\n",
    "\n",
    "docs = parse_wiki_xml(dump_file)"
   ]
  },
  {
   "cell_type": "code",
   "execution_count": 10,
   "metadata": {},
   "outputs": [],
   "source": [
    "# Index documents in elasticsearch \n",
    "from llama_index.core import Document\n",
    "\n",
    "# That takes about 10 minutes and will cost you about $0.07 \n",
    "for doc in docs:\n",
    "    index.insert(Document(text=doc[\"content\"], doc_id=doc[\"meta\"][\"id\"], extra_info=doc[\"meta\"]))"
   ]
  },
  {
   "cell_type": "code",
   "execution_count": 56,
   "metadata": {},
   "outputs": [
    {
     "name": "stdout",
     "output_type": "stream",
     "text": [
      "The Battle of Zion was a significant event that marked the climax of the\n",
      "perennial First Machine war. It involved the Machines attempting to destroy\n",
      "Zion, the last human city. The battle saw intense fighting as the Machines sent\n",
      "a massive army of Sentinels and Diggers to breach Zion's defenses. Despite\n",
      "initial setbacks, including the loss of key defensive hardware due to an EMP\n",
      "blast, the humans managed to rally and make a last stand. Ultimately, the tide\n",
      "turned when Kid opened Gate 3 just in time for the Mjolnir to enter and activate\n",
      "an EMP, annihilating the first wave of Sentinels. This turn of events led to a\n",
      "peace treaty between the humans and the Machines, ending the war and allowing\n",
      "both Zion and the Matrix to coexist with certain agreements in place.\n"
     ]
    }
   ],
   "source": [
    "# Now we can perform searches\n",
    "import textwrap\n",
    "query_engine = index.as_query_engine()\n",
    "\n",
    "print(textwrap.fill(query_engine.query(\"Tell me about battle of Zion\").response, width=80))\n"
   ]
  },
  {
   "cell_type": "code",
   "execution_count": 50,
   "metadata": {},
   "outputs": [
    {
     "name": "stdout",
     "output_type": "stream",
     "text": [
      "Neo is a main protagonist in The Matrix franchise who was born as Thomas A.\n",
      "Anderson. He was a former bluepill who was rescued by Morpheus and the crew of\n",
      "the Nebuchadnezzar, becoming a redpill. Neo was prophesied by The Oracle to be\n",
      "The One, tasked with freeing humanity from the Matrix and ending the Machine\n",
      "War. Throughout the series, Neo displays exceptional combat abilities, a direct\n",
      "connection to the Source, and the power to affect everything connected to it.\n",
      "His true nature and powers gradually return to him over time, showcasing his\n",
      "unique abilities and significance in the story.\n"
     ]
    }
   ],
   "source": [
    "# Create LlamaIndex vector store with a new index\n",
    "vector_store = ElasticsearchStore(\n",
    "    index_name=ES_INDEX_NAME+\"_v2\",\n",
    "    es_url=ES_URL,\n",
    "    es_user=ES_USER,\n",
    "    es_password=ES_PASSWORD,\n",
    "    es_cloud_id=ES_CLOUD_ID,\n",
    "    es_api_key=ES_API_KEY,\n",
    ")\n",
    "\n",
    "# Create index from the store\n",
    "index = VectorStoreIndex.from_vector_store(vector_store=vector_store)\n",
    "\n",
    "# Create the query engine\n",
    "query_engine = index.as_query_engine()\n",
    "\n",
    "# Query away\n",
    "print(textwrap.fill(query_engine.query(\"Who is Neo?\").response, width=80))"
   ]
  }
 ],
 "metadata": {
  "kernelspec": {
   "display_name": ".venv",
   "language": "python",
   "name": "python3"
  },
  "language_info": {
   "codemirror_mode": {
    "name": "ipython",
    "version": 3
   },
   "file_extension": ".py",
   "mimetype": "text/x-python",
   "name": "python",
   "nbconvert_exporter": "python",
   "pygments_lexer": "ipython3",
   "version": "3.12.3"
  }
 },
 "nbformat": 4,
 "nbformat_minor": 2
}
